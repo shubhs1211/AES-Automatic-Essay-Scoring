{
 "cells": [
  {
   "cell_type": "markdown",
   "metadata": {},
   "source": [
    "# Notebook 3 - Data Analysis, Model Generation and Evalaution\n",
    "- Basic analysis of given data, Visualization of features with respect to essay scores.\n",
    "- Creation of models - Neural Net, Random Forest and Linear Regression for automatic essay scoring.\n",
    "- Evaluation of the models using Quadrtic Weighted Kappa and Spearman's Rho"
   ]
  },
  {
   "cell_type": "markdown",
   "metadata": {},
   "source": [
    "### Importing all the libraries needed for this notebook:"
   ]
  },
  {
   "cell_type": "code",
   "execution_count": 1,
   "metadata": {},
   "outputs": [],
   "source": [
    "import pandas as pd\n",
    "import numpy as np\n",
    "import time\n",
    "import matplotlib.pyplot as plt\n",
    "%matplotlib inline"
   ]
  },
  {
   "cell_type": "markdown",
   "metadata": {},
   "source": [
    "### Loading the data from the given data set, encoding in latin-1:"
   ]
  },
  {
   "cell_type": "code",
   "execution_count": 2,
   "metadata": {},
   "outputs": [],
   "source": [
    "df = pd.read_csv('essay_scoring.csv', encoding='latin-1')"
   ]
  },
  {
   "cell_type": "code",
   "execution_count": 3,
   "metadata": {
    "scrolled": true
   },
   "outputs": [
    {
     "name": "stdout",
     "output_type": "stream",
     "text": [
      "(12978, 6)\n"
     ]
    },
    {
     "data": {
      "text/html": [
       "<div>\n",
       "<style scoped>\n",
       "    .dataframe tbody tr th:only-of-type {\n",
       "        vertical-align: middle;\n",
       "    }\n",
       "\n",
       "    .dataframe tbody tr th {\n",
       "        vertical-align: top;\n",
       "    }\n",
       "\n",
       "    .dataframe thead th {\n",
       "        text-align: right;\n",
       "    }\n",
       "</style>\n",
       "<table border=\"1\" class=\"dataframe\">\n",
       "  <thead>\n",
       "    <tr style=\"text-align: right;\">\n",
       "      <th></th>\n",
       "      <th>essay_id</th>\n",
       "      <th>essay_set</th>\n",
       "      <th>essay</th>\n",
       "      <th>rater1_domain1</th>\n",
       "      <th>rater2_domain1</th>\n",
       "      <th>domain1_score</th>\n",
       "    </tr>\n",
       "  </thead>\n",
       "  <tbody>\n",
       "    <tr>\n",
       "      <th>0</th>\n",
       "      <td>1</td>\n",
       "      <td>1</td>\n",
       "      <td>Dear local newspaper, I think effects computer...</td>\n",
       "      <td>4.0</td>\n",
       "      <td>4.0</td>\n",
       "      <td>8.0</td>\n",
       "    </tr>\n",
       "    <tr>\n",
       "      <th>1</th>\n",
       "      <td>2</td>\n",
       "      <td>1</td>\n",
       "      <td>Dear @CAPS1 @CAPS2, I believe that using compu...</td>\n",
       "      <td>5.0</td>\n",
       "      <td>4.0</td>\n",
       "      <td>9.0</td>\n",
       "    </tr>\n",
       "    <tr>\n",
       "      <th>2</th>\n",
       "      <td>3</td>\n",
       "      <td>1</td>\n",
       "      <td>Dear, @CAPS1 @CAPS2 @CAPS3 More and more peopl...</td>\n",
       "      <td>4.0</td>\n",
       "      <td>3.0</td>\n",
       "      <td>7.0</td>\n",
       "    </tr>\n",
       "    <tr>\n",
       "      <th>3</th>\n",
       "      <td>4</td>\n",
       "      <td>1</td>\n",
       "      <td>Dear Local Newspaper, @CAPS1 I have found that...</td>\n",
       "      <td>5.0</td>\n",
       "      <td>5.0</td>\n",
       "      <td>10.0</td>\n",
       "    </tr>\n",
       "    <tr>\n",
       "      <th>4</th>\n",
       "      <td>5</td>\n",
       "      <td>1</td>\n",
       "      <td>Dear @LOCATION1, I know having computers has a...</td>\n",
       "      <td>4.0</td>\n",
       "      <td>4.0</td>\n",
       "      <td>8.0</td>\n",
       "    </tr>\n",
       "  </tbody>\n",
       "</table>\n",
       "</div>"
      ],
      "text/plain": [
       "   essay_id  essay_set                                              essay  \\\n",
       "0         1          1  Dear local newspaper, I think effects computer...   \n",
       "1         2          1  Dear @CAPS1 @CAPS2, I believe that using compu...   \n",
       "2         3          1  Dear, @CAPS1 @CAPS2 @CAPS3 More and more peopl...   \n",
       "3         4          1  Dear Local Newspaper, @CAPS1 I have found that...   \n",
       "4         5          1  Dear @LOCATION1, I know having computers has a...   \n",
       "\n",
       "   rater1_domain1  rater2_domain1  domain1_score  \n",
       "0             4.0             4.0            8.0  \n",
       "1             5.0             4.0            9.0  \n",
       "2             4.0             3.0            7.0  \n",
       "3             5.0             5.0           10.0  \n",
       "4             4.0             4.0            8.0  "
      ]
     },
     "execution_count": 3,
     "metadata": {},
     "output_type": "execute_result"
    }
   ],
   "source": [
    "print(df.shape)\n",
    "df.head()"
   ]
  },
  {
   "cell_type": "code",
   "execution_count": 4,
   "metadata": {},
   "outputs": [],
   "source": [
    "df = df.drop('essay_id',1)\n",
    "df = df.drop('essay_set',1)\n",
    "df = df.drop('rater1_domain1',1)\n",
    "df = df.drop('rater2_domain1',1)"
   ]
  },
  {
   "cell_type": "code",
   "execution_count": 5,
   "metadata": {},
   "outputs": [
    {
     "data": {
      "text/html": [
       "<div>\n",
       "<style scoped>\n",
       "    .dataframe tbody tr th:only-of-type {\n",
       "        vertical-align: middle;\n",
       "    }\n",
       "\n",
       "    .dataframe tbody tr th {\n",
       "        vertical-align: top;\n",
       "    }\n",
       "\n",
       "    .dataframe thead th {\n",
       "        text-align: right;\n",
       "    }\n",
       "</style>\n",
       "<table border=\"1\" class=\"dataframe\">\n",
       "  <thead>\n",
       "    <tr style=\"text-align: right;\">\n",
       "      <th></th>\n",
       "      <th>domain1_score</th>\n",
       "    </tr>\n",
       "  </thead>\n",
       "  <tbody>\n",
       "    <tr>\n",
       "      <th>count</th>\n",
       "      <td>12977.000000</td>\n",
       "    </tr>\n",
       "    <tr>\n",
       "      <th>mean</th>\n",
       "      <td>6.799723</td>\n",
       "    </tr>\n",
       "    <tr>\n",
       "      <th>std</th>\n",
       "      <td>8.970558</td>\n",
       "    </tr>\n",
       "    <tr>\n",
       "      <th>min</th>\n",
       "      <td>0.000000</td>\n",
       "    </tr>\n",
       "    <tr>\n",
       "      <th>25%</th>\n",
       "      <td>2.000000</td>\n",
       "    </tr>\n",
       "    <tr>\n",
       "      <th>50%</th>\n",
       "      <td>3.000000</td>\n",
       "    </tr>\n",
       "    <tr>\n",
       "      <th>75%</th>\n",
       "      <td>8.000000</td>\n",
       "    </tr>\n",
       "    <tr>\n",
       "      <th>max</th>\n",
       "      <td>60.000000</td>\n",
       "    </tr>\n",
       "  </tbody>\n",
       "</table>\n",
       "</div>"
      ],
      "text/plain": [
       "       domain1_score\n",
       "count   12977.000000\n",
       "mean        6.799723\n",
       "std         8.970558\n",
       "min         0.000000\n",
       "25%         2.000000\n",
       "50%         3.000000\n",
       "75%         8.000000\n",
       "max        60.000000"
      ]
     },
     "execution_count": 5,
     "metadata": {},
     "output_type": "execute_result"
    }
   ],
   "source": [
    "df.describe()"
   ]
  },
  {
   "cell_type": "markdown",
   "metadata": {},
   "source": [
    "### Removing null values:"
   ]
  },
  {
   "cell_type": "code",
   "execution_count": 6,
   "metadata": {},
   "outputs": [
    {
     "name": "stdout",
     "output_type": "stream",
     "text": [
      "Nulls in dataset: ['essay' 'domain1_score'] => [False  True]\n"
     ]
    }
   ],
   "source": [
    "# Checking for null values in the dataset.\n",
    "print(\"Nulls in dataset: {0} => {1}\".format(df.columns.values, df.isnull().any().values))"
   ]
  },
  {
   "cell_type": "code",
   "execution_count": 7,
   "metadata": {},
   "outputs": [],
   "source": [
    "# Removing null values in the dataset.\n",
    "df = df[np.isfinite(df['domain1_score'])]"
   ]
  },
  {
   "cell_type": "code",
   "execution_count": 8,
   "metadata": {},
   "outputs": [
    {
     "data": {
      "text/plain": [
       "(12977, 2)"
      ]
     },
     "execution_count": 8,
     "metadata": {},
     "output_type": "execute_result"
    }
   ],
   "source": [
    "df.shape"
   ]
  },
  {
   "cell_type": "code",
   "execution_count": 9,
   "metadata": {},
   "outputs": [
    {
     "name": "stdout",
     "output_type": "stream",
     "text": [
      "Nulls in dataset: ['essay' 'domain1_score'] => [False False]\n"
     ]
    }
   ],
   "source": [
    "print(\"Nulls in dataset: {0} => {1}\".format(df.columns.values, df.isnull().any().values))"
   ]
  },
  {
   "cell_type": "markdown",
   "metadata": {},
   "source": [
    "### Loading file to extract normalized grades for essays:"
   ]
  },
  {
   "cell_type": "code",
   "execution_count": 10,
   "metadata": {},
   "outputs": [],
   "source": [
    "score_df = pd.read_csv('data.csv')"
   ]
  },
  {
   "cell_type": "code",
   "execution_count": 11,
   "metadata": {},
   "outputs": [],
   "source": [
    "score_df = score_df.drop('Unnamed: 0',axis=1)\n",
    "score_df = score_df.drop('essay_set',1)\n",
    "score_df = score_df.drop('essay',1)"
   ]
  },
  {
   "cell_type": "code",
   "execution_count": 12,
   "metadata": {},
   "outputs": [
    {
     "data": {
      "text/html": [
       "<div>\n",
       "<style scoped>\n",
       "    .dataframe tbody tr th:only-of-type {\n",
       "        vertical-align: middle;\n",
       "    }\n",
       "\n",
       "    .dataframe tbody tr th {\n",
       "        vertical-align: top;\n",
       "    }\n",
       "\n",
       "    .dataframe thead th {\n",
       "        text-align: right;\n",
       "    }\n",
       "</style>\n",
       "<table border=\"1\" class=\"dataframe\">\n",
       "  <thead>\n",
       "    <tr style=\"text-align: right;\">\n",
       "      <th></th>\n",
       "      <th>domain1_score</th>\n",
       "    </tr>\n",
       "  </thead>\n",
       "  <tbody>\n",
       "    <tr>\n",
       "      <th>0</th>\n",
       "      <td>6.0</td>\n",
       "    </tr>\n",
       "    <tr>\n",
       "      <th>1</th>\n",
       "      <td>7.0</td>\n",
       "    </tr>\n",
       "    <tr>\n",
       "      <th>2</th>\n",
       "      <td>5.0</td>\n",
       "    </tr>\n",
       "    <tr>\n",
       "      <th>3</th>\n",
       "      <td>8.0</td>\n",
       "    </tr>\n",
       "    <tr>\n",
       "      <th>4</th>\n",
       "      <td>6.0</td>\n",
       "    </tr>\n",
       "  </tbody>\n",
       "</table>\n",
       "</div>"
      ],
      "text/plain": [
       "   domain1_score\n",
       "0            6.0\n",
       "1            7.0\n",
       "2            5.0\n",
       "3            8.0\n",
       "4            6.0"
      ]
     },
     "execution_count": 12,
     "metadata": {},
     "output_type": "execute_result"
    }
   ],
   "source": [
    "score_df.head()"
   ]
  },
  {
   "cell_type": "markdown",
   "metadata": {},
   "source": [
    "### Loading file to access features for given data:"
   ]
  },
  {
   "cell_type": "code",
   "execution_count": 13,
   "metadata": {},
   "outputs": [],
   "source": [
    "# Loading the feature generated data and removing unwanted columns.\n",
    "features_df = pd.read_csv('features.csv')\n",
    "features_df = features_df.drop('Unnamed: 0',axis=1)"
   ]
  },
  {
   "cell_type": "code",
   "execution_count": 14,
   "metadata": {},
   "outputs": [
    {
     "data": {
      "text/html": [
       "<div>\n",
       "<style scoped>\n",
       "    .dataframe tbody tr th:only-of-type {\n",
       "        vertical-align: middle;\n",
       "    }\n",
       "\n",
       "    .dataframe tbody tr th {\n",
       "        vertical-align: top;\n",
       "    }\n",
       "\n",
       "    .dataframe thead th {\n",
       "        text-align: right;\n",
       "    }\n",
       "</style>\n",
       "<table border=\"1\" class=\"dataframe\">\n",
       "  <thead>\n",
       "    <tr style=\"text-align: right;\">\n",
       "      <th></th>\n",
       "      <th>adjective_count</th>\n",
       "      <th>adverb_count</th>\n",
       "      <th>average_word_length</th>\n",
       "      <th>long_word_count</th>\n",
       "      <th>noun_count</th>\n",
       "      <th>sentences_count</th>\n",
       "      <th>spelling_error_count</th>\n",
       "      <th>verb_count</th>\n",
       "      <th>vocab_count</th>\n",
       "      <th>word_count</th>\n",
       "      <th>word_to_sentence_ratio</th>\n",
       "    </tr>\n",
       "  </thead>\n",
       "  <tbody>\n",
       "    <tr>\n",
       "      <th>0</th>\n",
       "      <td>28</td>\n",
       "      <td>11</td>\n",
       "      <td>5.58</td>\n",
       "      <td>45</td>\n",
       "      <td>71</td>\n",
       "      <td>16</td>\n",
       "      <td>16</td>\n",
       "      <td>38</td>\n",
       "      <td>29.482659</td>\n",
       "      <td>168</td>\n",
       "      <td>10.19</td>\n",
       "    </tr>\n",
       "    <tr>\n",
       "      <th>1</th>\n",
       "      <td>23</td>\n",
       "      <td>10</td>\n",
       "      <td>5.67</td>\n",
       "      <td>62</td>\n",
       "      <td>96</td>\n",
       "      <td>20</td>\n",
       "      <td>23</td>\n",
       "      <td>54</td>\n",
       "      <td>20.220089</td>\n",
       "      <td>226</td>\n",
       "      <td>10.80</td>\n",
       "    </tr>\n",
       "    <tr>\n",
       "      <th>2</th>\n",
       "      <td>17</td>\n",
       "      <td>2</td>\n",
       "      <td>6.05</td>\n",
       "      <td>51</td>\n",
       "      <td>72</td>\n",
       "      <td>14</td>\n",
       "      <td>4</td>\n",
       "      <td>36</td>\n",
       "      <td>15.286432</td>\n",
       "      <td>139</td>\n",
       "      <td>9.43</td>\n",
       "    </tr>\n",
       "    <tr>\n",
       "      <th>3</th>\n",
       "      <td>41</td>\n",
       "      <td>13</td>\n",
       "      <td>6.23</td>\n",
       "      <td>79</td>\n",
       "      <td>123</td>\n",
       "      <td>27</td>\n",
       "      <td>41</td>\n",
       "      <td>56</td>\n",
       "      <td>30.737705</td>\n",
       "      <td>301</td>\n",
       "      <td>9.63</td>\n",
       "    </tr>\n",
       "    <tr>\n",
       "      <th>4</th>\n",
       "      <td>25</td>\n",
       "      <td>13</td>\n",
       "      <td>5.94</td>\n",
       "      <td>69</td>\n",
       "      <td>113</td>\n",
       "      <td>30</td>\n",
       "      <td>20</td>\n",
       "      <td>46</td>\n",
       "      <td>20.258941</td>\n",
       "      <td>226</td>\n",
       "      <td>7.40</td>\n",
       "    </tr>\n",
       "  </tbody>\n",
       "</table>\n",
       "</div>"
      ],
      "text/plain": [
       "   adjective_count  adverb_count  average_word_length  long_word_count  \\\n",
       "0               28            11                 5.58               45   \n",
       "1               23            10                 5.67               62   \n",
       "2               17             2                 6.05               51   \n",
       "3               41            13                 6.23               79   \n",
       "4               25            13                 5.94               69   \n",
       "\n",
       "   noun_count  sentences_count  spelling_error_count  verb_count  vocab_count  \\\n",
       "0          71               16                    16          38    29.482659   \n",
       "1          96               20                    23          54    20.220089   \n",
       "2          72               14                     4          36    15.286432   \n",
       "3         123               27                    41          56    30.737705   \n",
       "4         113               30                    20          46    20.258941   \n",
       "\n",
       "   word_count  word_to_sentence_ratio  \n",
       "0         168                   10.19  \n",
       "1         226                   10.80  \n",
       "2         139                    9.43  \n",
       "3         301                    9.63  \n",
       "4         226                    7.40  "
      ]
     },
     "execution_count": 14,
     "metadata": {},
     "output_type": "execute_result"
    }
   ],
   "source": [
    "features_df.head()"
   ]
  },
  {
   "cell_type": "markdown",
   "metadata": {},
   "source": [
    "## Features Visualization \n",
    "\n",
    "### The following features for each essay will be used for visualization  : -"
   ]
  },
  {
   "cell_type": "markdown",
   "metadata": {},
   "source": [
    "- Word count                : Number of words\n",
    "<br><br>\n",
    "- Sentence count            : Number of sentences\n",
    "<br><br>\n",
    "- Long words count          : Number of words with length greater than 6 per\n",
    "<br><br>\n",
    "- Spelling error count      : Number of spelling mistakes \n",
    "<br><br>\n",
    "- Words to sentences ratio  : To find if the sentences are short and simple or long and complex.\n",
    "<br><br>\n",
    "- Vocabulary richness count : To find the vocabulary used\n",
    "<br><br>\n",
    "- Noun Count                : Number of nouns used\n",
    "<br><br>\n",
    "\n",
    "\n"
   ]
  },
  {
   "cell_type": "markdown",
   "metadata": {},
   "source": [
    "#### Word Count v/s Essay Grade"
   ]
  },
  {
   "cell_type": "code",
   "execution_count": 15,
   "metadata": {},
   "outputs": [
    {
     "data": {
      "text/plain": [
       "Text(0.5,1,'Word Count v/s Essay Grade')"
      ]
     },
     "execution_count": 15,
     "metadata": {},
     "output_type": "execute_result"
    },
    {
     "data": {
      "image/png": "[encoded data removed]",
      "text/plain": [
       "<matplotlib.figure.Figure at 0x10ef7e278>"
      ]
     },
     "metadata": {},
     "output_type": "display_data"
    }
   ],
   "source": [
    "fig, dig1 = plt.subplots(1, 1, figsize=(5, 5))\n",
    "\n",
    "dig1.scatter(features_df['word_count'], score_df['domain1_score'])\n",
    "dig1.set_ylabel('Grade')\n",
    "dig1.set_xlabel('Word Count')\n",
    "dig1.set_title('Word Count v/s Essay Grade')"
   ]
  },
  {
   "cell_type": "markdown",
   "metadata": {},
   "source": [
    "The word counts in general have a positive correlation with the essay score."
   ]
  },
  {
   "cell_type": "markdown",
   "metadata": {},
   "source": [
    "#### Vocabulary Richness v/s Essay Grade"
   ]
  },
  {
   "cell_type": "code",
   "execution_count": 16,
   "metadata": {},
   "outputs": [
    {
     "data": {
      "text/plain": [
       "Text(0.5,1,'Vocabulary richness v/s Essay Grade')"
      ]
     },
     "execution_count": 16,
     "metadata": {},
     "output_type": "execute_result"
    },
    {
     "data": {
      "image/png": "[encoded data removed]",
      "text/plain": [
       "<matplotlib.figure.Figure at 0x10a6999e8>"
      ]
     },
     "metadata": {},
     "output_type": "display_data"
    }
   ],
   "source": [
    "fig, dig2 = plt.subplots(1, 1, figsize=(5, 5))\n",
    "\n",
    "dig2.scatter(features_df['vocab_count'], score_df['domain1_score'])\n",
    "dig2.set_ylabel('Grade')\n",
    "dig2.set_xlabel('Vocabulary richness')\n",
    "dig2.set_title('Vocabulary richness v/s Essay Grade')"
   ]
  },
  {
   "cell_type": "markdown",
   "metadata": {},
   "source": [
    "More vocabulary means more variety of words used which should give a higher score.<br>\n",
    "There is a moderately positive correlation between the vocabulary richness and essay score."
   ]
  },
  {
   "cell_type": "markdown",
   "metadata": {},
   "source": [
    "#### Spelling Error Count v/s Essay Grade"
   ]
  },
  {
   "cell_type": "code",
   "execution_count": 17,
   "metadata": {},
   "outputs": [
    {
     "data": {
      "text/plain": [
       "Text(0.5,1,'Spelling Error Count v/s Essay Grade')"
      ]
     },
     "execution_count": 17,
     "metadata": {},
     "output_type": "execute_result"
    },
    {
     "data": {
      "image/png": "[encoded data removed]",
      "text/plain": [
       "<matplotlib.figure.Figure at 0x10f7bd080>"
      ]
     },
     "metadata": {},
     "output_type": "display_data"
    }
   ],
   "source": [
    "fig, dig3 = plt.subplots(1, 1, figsize=(5, 5))\n",
    "\n",
    "dig3.scatter(features_df['spelling_error_count'], score_df['domain1_score'])\n",
    "dig3.set_ylabel('Grade')\n",
    "dig3.set_xlabel('Spelling Error Count')\n",
    "dig3.set_title('Spelling Error Count v/s Essay Grade')"
   ]
  },
  {
   "cell_type": "markdown",
   "metadata": {},
   "source": [
    "It can be observed here that even essays with a large number of spelling mistakes can receive a higher grade.<br>\n",
    "The graders probably consider the overall essay more important than the spelling errors."
   ]
  },
  {
   "cell_type": "markdown",
   "metadata": {},
   "source": [
    "#### Sentences Count v/s Essay Grade"
   ]
  },
  {
   "cell_type": "code",
   "execution_count": 18,
   "metadata": {},
   "outputs": [
    {
     "data": {
      "text/plain": [
       "Text(0.5,1,'Sentences Count v/s Essay Grade')"
      ]
     },
     "execution_count": 18,
     "metadata": {},
     "output_type": "execute_result"
    },
    {
     "data": {
      "image/png": "[encoded data removed]",
      "text/plain": [
       "<matplotlib.figure.Figure at 0x1102ec0f0>"
      ]
     },
     "metadata": {},
     "output_type": "display_data"
    }
   ],
   "source": [
    "fig, dig4 = plt.subplots(1, 1, figsize=(5, 5))\n",
    "\n",
    "dig4.scatter(features_df['sentences_count'], score_df['domain1_score'])\n",
    "dig4.set_ylabel('Grade')\n",
    "dig4.set_xlabel('Sentences Count')\n",
    "dig4.set_title('Sentences Count v/s Essay Grade')"
   ]
  },
  {
   "cell_type": "markdown",
   "metadata": {},
   "source": [
    "The sentence counts in general have a positive correlation with the essay score."
   ]
  },
  {
   "cell_type": "markdown",
   "metadata": {},
   "source": [
    "#### Long Words Count v/s Essay Grade"
   ]
  },
  {
   "cell_type": "code",
   "execution_count": 19,
   "metadata": {},
   "outputs": [
    {
     "data": {
      "text/plain": [
       "Text(0.5,1,'Long words count v/s Essay Grade')"
      ]
     },
     "execution_count": 19,
     "metadata": {},
     "output_type": "execute_result"
    },
    {
     "data": {
      "image/png": "[encoded data removed]",
      "text/plain": [
       "<matplotlib.figure.Figure at 0x11030f438>"
      ]
     },
     "metadata": {},
     "output_type": "display_data"
    }
   ],
   "source": [
    "fig, dig5 = plt.subplots(1, 1, figsize=(5, 5))\n",
    "\n",
    "dig5.scatter(features_df['long_word_count'], score_df['domain1_score'])\n",
    "dig5.set_ylabel('Grade')\n",
    "dig5.set_xlabel('Long words count')\n",
    "dig5.set_title('Long words count v/s Essay Grade')"
   ]
  },
  {
   "cell_type": "markdown",
   "metadata": {},
   "source": [
    "Higher the number of long words used higher is the essay score."
   ]
  },
  {
   "cell_type": "markdown",
   "metadata": {},
   "source": [
    "#### Noun Count v/s Essay Grade"
   ]
  },
  {
   "cell_type": "code",
   "execution_count": 20,
   "metadata": {},
   "outputs": [
    {
     "data": {
      "text/plain": [
       "Text(0.5,1,'Noun count v/s Essay Grade')"
      ]
     },
     "execution_count": 20,
     "metadata": {},
     "output_type": "execute_result"
    },
    {
     "data": {
      "image/png": "[encoded data removed]",
      "text/plain": [
       "<matplotlib.figure.Figure at 0x11044e978>"
      ]
     },
     "metadata": {},
     "output_type": "display_data"
    }
   ],
   "source": [
    "fig, dig6 = plt.subplots(1, 1, figsize=(5, 5))\n",
    "\n",
    "dig6.scatter(features_df['noun_count'], score_df['domain1_score'])\n",
    "dig6.set_ylabel('Grade')\n",
    "dig6.set_xlabel('Noun count')\n",
    "dig6.set_title('Noun count v/s Essay Grade')"
   ]
  },
  {
   "cell_type": "markdown",
   "metadata": {},
   "source": [
    "#### Word to sentence ratio v/s Essay Grade"
   ]
  },
  {
   "cell_type": "code",
   "execution_count": 21,
   "metadata": {},
   "outputs": [
    {
     "data": {
      "text/plain": [
       "Text(0.5,1,'Word to sentence ratio v/s Essay Grade')"
      ]
     },
     "execution_count": 21,
     "metadata": {},
     "output_type": "execute_result"
    },
    {
     "data": {
      "image/png": "[encoded data removed]",
      "text/plain": [
       "<matplotlib.figure.Figure at 0x11040b6d8>"
      ]
     },
     "metadata": {},
     "output_type": "display_data"
    }
   ],
   "source": [
    "fig, dig7 = plt.subplots(1, 1, figsize=(5, 5))\n",
    "\n",
    "dig7.scatter(features_df['word_to_sentence_ratio'], score_df['domain1_score'])\n",
    "dig7.set_ylabel('Grade')\n",
    "dig7.set_xlabel('Word to sentence ratio')\n",
    "dig7.set_title('Word to sentence ratio v/s Essay Grade')"
   ]
  },
  {
   "cell_type": "markdown",
   "metadata": {},
   "source": [
    "In most cases, short and simple sentences are better than long and complex."
   ]
  },
  {
   "cell_type": "markdown",
   "metadata": {},
   "source": [
    "## Model Generation"
   ]
  },
  {
   "cell_type": "markdown",
   "metadata": {},
   "source": [
    "## Following models are created:\n",
    "- Neural Net\n",
    "- Random Forest\n",
    "- Linear Regression\n",
    "\n",
    "I have used 5-fold cross validation to train and test my model rigorously.<br>\n",
    "This was done to avoid overfitting.\n"
   ]
  },
  {
   "cell_type": "code",
   "execution_count": 22,
   "metadata": {},
   "outputs": [],
   "source": [
    "X = features_df\n",
    "y = score_df['domain1_score']"
   ]
  },
  {
   "cell_type": "code",
   "execution_count": 23,
   "metadata": {},
   "outputs": [
    {
     "name": "stderr",
     "output_type": "stream",
     "text": [
      "/anaconda3/lib/python3.6/site-packages/sklearn/cross_validation.py:41: DeprecationWarning: This module was deprecated in version 0.18 in favor of the model_selection module into which all the refactored classes and functions are moved. Also note that the interface of the new CV iterators are different from that of this module. This module will be removed in 0.20.\n",
      "  \"This module will be removed in 0.20.\", DeprecationWarning)\n"
     ]
    }
   ],
   "source": [
    "from sklearn.preprocessing import StandardScaler\n",
    "from sklearn.model_selection import KFold\n",
    "from sklearn import cross_validation\n",
    "from sklearn.neural_network import MLPClassifier\n",
    "from sklearn.linear_model import LinearRegression\n",
    "from sklearn.ensemble import RandomForestRegressor\n",
    "\n",
    "from functions import quadratic_weighted_kappa as qwk\n",
    "from scipy.stats import spearmanr\n",
    "\n",
    "# Using 5 fold cross validation\n",
    "cv = cross_validation.KFold(len(X), n_folds=5,shuffle=True)\n",
    "\n",
    "qwk_neural_net = []\n",
    "qwk_random_forest = []\n",
    "qwk_linear_regression = []\n",
    "\n",
    "spearman_nn_list = []\n",
    "spearman_rf_list = []\n",
    "spearman_lm_list = []\n",
    "\n",
    "for traincv, testcv in cv:\n",
    "    X_test, X_train, y_test, y_train = X.iloc[testcv], X.iloc[traincv], y.iloc[testcv], y.iloc[traincv]\n",
    "    \n",
    "    # Scaling the data    \n",
    "    scaler = StandardScaler()\n",
    "    scaler.fit(X_train)\n",
    "    X_train = scaler.transform(X_train)\n",
    "    X_test = scaler.transform(X_test)\n",
    "    \n",
    "    # Creating the models\n",
    "\n",
    "    # Neural Net\n",
    "    mlp = MLPClassifier(solver='lbfgs', alpha=1e-5, hidden_layer_sizes=(10, 10),\n",
    "                       activation='tanh', max_iter=2000, batch_size = 50)\n",
    "    \n",
    "    \n",
    "    mlp.fit(X_train, y_train.astype(int))\n",
    "    \n",
    "    predictions = mlp.predict(X_test)\n",
    "    y_pred_nn = predictions.tolist()\n",
    "    \n",
    "    y_test_nn = y_test.astype(int)\n",
    "    y_test_nn = y_test_nn.tolist() \n",
    "    \n",
    "    y_test = y_test.tolist()  \n",
    "    \n",
    "    # Linear Regression\n",
    "    learning_model =  LinearRegression(normalize=True)\n",
    "    learning_model.fit(X_train, y_train)\n",
    "    \n",
    "    predictions_lm = learning_model.predict(X_test)\n",
    "    y_pred_lm = predictions_lm.tolist()\n",
    "    \n",
    "    # Random Forest\n",
    "    rf = RandomForestRegressor(n_estimators= 1000, random_state=42)\n",
    "    rf.fit(X_train, y_train);\n",
    "\n",
    "    predictions_rf = rf.predict(X_test)\n",
    "    y_pred_rf = predictions_rf.tolist()\n",
    "    \n",
    "    # Quadratic Weighted Kappa \n",
    "    qwk_neural_net.append( qwk(y_pred_nn, y_test) )\n",
    "    qwk_random_forest.append( qwk(y_pred_rf, y_test) )\n",
    "    qwk_linear_regression.append( qwk(y_pred_lm, y_test) )\n",
    "    \n",
    "    # Spearman's Rho\n",
    "    spearman_nn = spearmanr(y_test, y_pred_nn)\n",
    "    spearman_rf = spearmanr(y_test, y_pred_rf)\n",
    "    spearman_lm = spearmanr(y_test, y_pred_lm)\n",
    "    \n",
    "    spearman_nn_list.append(spearman_nn[0])\n",
    "    spearman_rf_list.append(spearman_rf[0])\n",
    "    spearman_lm_list.append(spearman_lm[0])"
   ]
  },
  {
   "cell_type": "markdown",
   "metadata": {},
   "source": [
    "## Calculating Mean Quadratic Kappa for the 3 models:"
   ]
  },
  {
   "cell_type": "markdown",
   "metadata": {},
   "source": [
    "I have used Quadratic weighted kappa(qwk) as the evaluation metric for the models created.<br>\n",
    "This metric usually varies from 0 (random agreement) to 1 (complete agreement). <br>\n",
    "A negative value indicates the the agreement between raters is less than that expected by chance.<br>\n",
    "\n",
    "The qwk is calculated between the resolved score between the raters and the predicted scores for the essays."
   ]
  },
  {
   "cell_type": "code",
   "execution_count": 25,
   "metadata": {},
   "outputs": [
    {
     "data": {
      "text/plain": [
       "0.6196178469037482"
      ]
     },
     "execution_count": 25,
     "metadata": {},
     "output_type": "execute_result"
    }
   ],
   "source": [
    "np.mean(qwk_neural_net)"
   ]
  },
  {
   "cell_type": "code",
   "execution_count": 26,
   "metadata": {},
   "outputs": [
    {
     "data": {
      "text/plain": [
       "0.630806541949549"
      ]
     },
     "execution_count": 26,
     "metadata": {},
     "output_type": "execute_result"
    }
   ],
   "source": [
    "np.mean(qwk_random_forest)"
   ]
  },
  {
   "cell_type": "code",
   "execution_count": 27,
   "metadata": {},
   "outputs": [
    {
     "data": {
      "text/plain": [
       "0.35204743811239847"
      ]
     },
     "execution_count": 27,
     "metadata": {},
     "output_type": "execute_result"
    }
   ],
   "source": [
    "np.mean(qwk_linear_regression)"
   ]
  },
  {
   "cell_type": "markdown",
   "metadata": {},
   "source": [
    "#### The Kappa value can be interpreted as follows:\n",
    "\n",
    "Value of K | Strength of agreement<br>\n",
    "\n",
    "0.0 - 0.20 | Poor<br>\n",
    "0.21 - .40 | Fair<br>\n",
    "0.41 - .60 | Moderate<br>\n",
    "0.61 - .80 | Good<br>\n",
    "0.81 - 1.0 | Very good\n"
   ]
  },
  {
   "cell_type": "markdown",
   "metadata": {},
   "source": [
    "- The model that performs the best is the random forest. \n",
    "- Both the random forest and neural network model give a good score.\n",
    "- While the linear regression model performs fairly."
   ]
  },
  {
   "cell_type": "markdown",
   "metadata": {},
   "source": [
    "## Calculating Spearman's Rho for the 3 models:"
   ]
  },
  {
   "cell_type": "markdown",
   "metadata": {},
   "source": [
    "Spearman's rho is used to measure the association between two variables."
   ]
  },
  {
   "cell_type": "code",
   "execution_count": 28,
   "metadata": {},
   "outputs": [
    {
     "data": {
      "text/plain": [
       "0.6320811123910114"
      ]
     },
     "execution_count": 28,
     "metadata": {},
     "output_type": "execute_result"
    }
   ],
   "source": [
    "np.mean(spearman_nn_list)"
   ]
  },
  {
   "cell_type": "code",
   "execution_count": 29,
   "metadata": {},
   "outputs": [
    {
     "data": {
      "text/plain": [
       "0.6749388045386553"
      ]
     },
     "execution_count": 29,
     "metadata": {},
     "output_type": "execute_result"
    }
   ],
   "source": [
    "np.mean(spearman_rf_list)"
   ]
  },
  {
   "cell_type": "code",
   "execution_count": 30,
   "metadata": {},
   "outputs": [
    {
     "data": {
      "text/plain": [
       "0.4931490578859396"
      ]
     },
     "execution_count": 30,
     "metadata": {},
     "output_type": "execute_result"
    }
   ],
   "source": [
    "np.mean(spearman_lm_list)"
   ]
  },
  {
   "cell_type": "markdown",
   "metadata": {},
   "source": [
    "#### Spearman correlation strength interpretation is as follows:\n",
    "\n",
    "0.0 - .19 : Very weak<br>\n",
    "0.2 - .39 : Weak<br>\n",
    "0.4 - .59 : Moderate<br>\n",
    "0.6 - .79 : Strong<br>\n",
    "0.8 - 1.0 : Very strong"
   ]
  },
  {
   "cell_type": "markdown",
   "metadata": {},
   "source": [
    "- So random forest and the neural network model produce strong predictions.\n",
    "- While the linear regression model performs moderately."
   ]
  },
  {
   "cell_type": "markdown",
   "metadata": {},
   "source": [
    "## Main Factors affecting the final grade:"
   ]
  },
  {
   "cell_type": "markdown",
   "metadata": {},
   "source": [
    "I have used the random forest model to identify the main features affecting the final grade of an essay."
   ]
  },
  {
   "cell_type": "code",
   "execution_count": 31,
   "metadata": {},
   "outputs": [],
   "source": [
    "# Get numerical feature importances\n",
    "importances = list(rf.feature_importances_)"
   ]
  },
  {
   "cell_type": "code",
   "execution_count": 32,
   "metadata": {},
   "outputs": [
    {
     "data": {
      "text/plain": [
       "['adjective_count',\n",
       " 'adverb_count',\n",
       " 'average_word_length',\n",
       " 'long_word_count',\n",
       " 'noun_count',\n",
       " 'sentences_count',\n",
       " 'spelling_error_count',\n",
       " 'verb_count',\n",
       " 'vocab_count',\n",
       " 'word_count',\n",
       " 'word_to_sentence_ratio']"
      ]
     },
     "execution_count": 32,
     "metadata": {},
     "output_type": "execute_result"
    }
   ],
   "source": [
    "list(X.columns)"
   ]
  },
  {
   "cell_type": "code",
   "execution_count": 33,
   "metadata": {},
   "outputs": [
    {
     "name": "stdout",
     "output_type": "stream",
     "text": [
      "Variable: word_count           Importance: 0.38\n",
      "Variable: average_word_length  Importance: 0.11\n",
      "Variable: vocab_count          Importance: 0.1\n",
      "Variable: word_to_sentence_ratio Importance: 0.07\n",
      "Variable: long_word_count      Importance: 0.06\n",
      "Variable: noun_count           Importance: 0.05\n",
      "Variable: sentences_count      Importance: 0.05\n",
      "Variable: spelling_error_count Importance: 0.05\n",
      "Variable: verb_count           Importance: 0.05\n",
      "Variable: adjective_count      Importance: 0.04\n",
      "Variable: adverb_count         Importance: 0.04\n"
     ]
    }
   ],
   "source": [
    "# List of tuples with variable and importance\n",
    "feature_importances = [(feature, round(importance, 2)) for feature, importance in zip(list(X.columns), importances)]\n",
    "\n",
    "# Sort the feature importances by most important first\n",
    "feature_importances = sorted(feature_importances, key = lambda x: x[1], reverse = True)\n",
    "\n",
    "# Print out the feature and importances \n",
    "[print('Variable: {:20} Importance: {}'.format(*pair)) for pair in feature_importances];"
   ]
  },
  {
   "cell_type": "markdown",
   "metadata": {},
   "source": [
    " From above results, <br>\n",
    " The main factors contributing to the final grade of essays are:<br>\n",
    "- **The number of words**\n",
    "- **The average length of the words**\n",
    "- **The value of vocabulary richness**"
   ]
  },
  {
   "cell_type": "code",
   "execution_count": null,
   "metadata": {},
   "outputs": [],
   "source": []
  }
 ],
 "metadata": {
  "kernelspec": {
   "display_name": "Python 3",
   "language": "python",
   "name": "python3"
  },
  "language_info": {
   "codemirror_mode": {
    "name": "ipython",
    "version": 3
   },
   "file_extension": ".py",
   "mimetype": "text/x-python",
   "name": "python",
   "nbconvert_exporter": "python",
   "pygments_lexer": "ipython3",
   "version": "3.6.4"
  }
 },
 "nbformat": 4,
 "nbformat_minor": 2
}
